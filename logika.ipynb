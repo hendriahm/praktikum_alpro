{
  "nbformat": 4,
  "nbformat_minor": 0,
  "metadata": {
    "colab": {
      "provenance": [],
      "gpuType": "V28",
      "authorship_tag": "ABX9TyPImS9Rn7gX+Dhz26fls/BK"
    },
    "kernelspec": {
      "name": "python3",
      "display_name": "Python 3"
    },
    "language_info": {
      "name": "python"
    },
    "accelerator": "TPU"
  },
  "cells": [
    {
      "cell_type": "markdown",
      "source": [],
      "metadata": {
        "id": "eKBHNP3NrpPU"
      }
    },
    {
      "cell_type": "code",
      "execution_count": 5,
      "metadata": {
        "colab": {
          "base_uri": "https://localhost:8080/"
        },
        "id": "GuwwzLWwqrhy",
        "outputId": "0a4e30f4-82f2-4e5a-ee43-b7a830788bac"
      },
      "outputs": [
        {
          "output_type": "stream",
          "name": "stdout",
          "text": [
            "b lebih besar dari a\n"
          ]
        }
      ],
      "source": [
        "a=33\n",
        "b=200\n",
        "if b>a:\n",
        "  print (\"b lebih besar dari a\")\n"
      ]
    }
  ]
}